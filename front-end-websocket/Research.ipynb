{
 "cells": [
  {
   "cell_type": "markdown",
   "metadata": {},
   "source": [
    "* https://en.wikipedia.org/wiki/WebSocket"
   ]
  },
  {
   "cell_type": "markdown",
   "metadata": {},
   "source": [
    "* https://github.com/zhoumengkang/netty-websocket\n",
    "* [基于 WebSocket 的聊天室](https://github.com/waylau/netty-4-user-guide-demos/tree/master/netty4-demos/src/main/java/com/waylau/netty/demo/websocketchat)"
   ]
  },
  {
   "cell_type": "markdown",
   "metadata": {},
   "source": [
    "* [How to write a HTTP + WebSocket server using Netty](https://medium.com/@irunika/how-to-write-a-http-websocket-server-using-netty-f3c136adcba9)\n",
    "* https://netty.io/4.0/xref/io/netty/example/http/websocketx/client/WebSocketClient.html\n",
    "* https://netty.io/4.0/api/io/netty/handler/codec/http/websocketx/WebSocketClientProtocolHandler.html"
   ]
  }
 ],
 "metadata": {
  "kernelspec": {
   "display_name": "Bash",
   "language": "bash",
   "name": "bash"
  },
  "language_info": {
   "codemirror_mode": "shell",
   "file_extension": ".sh",
   "mimetype": "text/x-sh",
   "name": "bash"
  }
 },
 "nbformat": 4,
 "nbformat_minor": 5
}
