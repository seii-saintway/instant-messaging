{
 "cells": [
  {
   "cell_type": "markdown",
   "id": "3137593b",
   "metadata": {},
   "source": [
    "## [Install Apache Ant](https://ant.apache.org/manual/install.html)\n",
    "* https://ant.apache.org/bindownload.cgi"
   ]
  },
  {
   "cell_type": "code",
   "execution_count": null,
   "id": "24cc686d",
   "metadata": {},
   "outputs": [],
   "source": [
    "cd $HOME"
   ]
  },
  {
   "cell_type": "code",
   "execution_count": null,
   "id": "e2c709e9",
   "metadata": {},
   "outputs": [],
   "source": [
    "curl -O https://dlcdn.apache.org//ant/binaries/apache-ant-1.10.12-bin.tar.gz"
   ]
  },
  {
   "cell_type": "code",
   "execution_count": null,
   "id": "a09e42a0",
   "metadata": {},
   "outputs": [],
   "source": [
    "tar xvzf apache-ant-1.10.12-bin.tar.gz"
   ]
  },
  {
   "cell_type": "code",
   "execution_count": null,
   "id": "2ecd6712",
   "metadata": {},
   "outputs": [],
   "source": [
    "cat << EOF >> $HOME/.bashrc\n",
    "export PATH=\"\\$HOME/apache-ant-1.10.12/bin:\\$PATH\"\n",
    "EOF"
   ]
  },
  {
   "cell_type": "markdown",
   "id": "b273c5b9",
   "metadata": {},
   "source": [
    "* https://ant.apache.org/manual/proxy.html"
   ]
  },
  {
   "cell_type": "code",
   "execution_count": null,
   "id": "5ac126ff",
   "metadata": {},
   "outputs": [],
   "source": [
    "cat << EOF >> $HOME/.bashrc\n",
    "export ANT_OPTS=\"-Dhttp.proxyHost=$proxy_host -Dhttp.proxyPort=$proxy_port\"\n",
    "EOF"
   ]
  },
  {
   "cell_type": "markdown",
   "id": "37dfa5e3",
   "metadata": {},
   "source": [
    "## [Download the SDK Binaries](http://flex.apache.org/download-binaries.html)\n",
    "* https://github.com/apache/flex-sdk\n",
    "* https://www.apache.org/dyn/closer.lua/flex/4.16.1/binaries/apache-flex-sdk-4.16.1-bin.tar.gz"
   ]
  },
  {
   "cell_type": "code",
   "execution_count": null,
   "id": "0dccf87f",
   "metadata": {},
   "outputs": [],
   "source": [
    "cd $HOME"
   ]
  },
  {
   "cell_type": "code",
   "execution_count": null,
   "id": "f06d99aa",
   "metadata": {},
   "outputs": [],
   "source": [
    "curl -O https://dlcdn.apache.org/flex/4.16.1/binaries/apache-flex-sdk-4.16.1-bin.tar.gz"
   ]
  },
  {
   "cell_type": "code",
   "execution_count": null,
   "id": "d6a1254f",
   "metadata": {},
   "outputs": [],
   "source": [
    "tar xvzf apache-flex-sdk-4.16.1-bin.tar.gz"
   ]
  },
  {
   "cell_type": "code",
   "execution_count": null,
   "id": "e3886fab",
   "metadata": {},
   "outputs": [],
   "source": [
    "cat << EOF >> $HOME/.bashrc\n",
    "export FLEX_HOME=\"\\$HOME/apache-flex-sdk-4.16.1-bin\"\n",
    "export PATH=\"\\$FLEX_HOME/bin:\\$PATH\"\n",
    "EOF"
   ]
  },
  {
   "cell_type": "markdown",
   "id": "33db1d9b-9b2e-45c0-bdd0-ac1f8bf0aeff",
   "metadata": {},
   "source": [
    "* https://aur.archlinux.org/packages/apache-flex-sdk/\n",
    "* https://github.com/nexussays/playerglobal"
   ]
  },
  {
   "cell_type": "code",
   "execution_count": null,
   "id": "41075499-b005-40bd-96ae-1dad4294642c",
   "metadata": {},
   "outputs": [],
   "source": [
    "cat << EOF >> $HOME/.bashrc\n",
    "export PLAYERGLOBAL_HOME=\"\\$FLEX_HOME/player\"\n",
    "EOF"
   ]
  },
  {
   "cell_type": "code",
   "execution_count": null,
   "id": "adefad80-4253-4659-8e6b-a7e09042dabc",
   "metadata": {},
   "outputs": [],
   "source": [
    "mkdir -p $PLAYERGLOBAL_HOME/27.0"
   ]
  },
  {
   "cell_type": "code",
   "execution_count": null,
   "id": "e53ba22d-2557-4cdb-93b3-895cf1585182",
   "metadata": {},
   "outputs": [
    {
     "name": "stdout",
     "output_type": "stream",
     "text": [
      "  % Total    % Received % Xferd  Average Speed   Time    Time     Time  Current\n",
      "                                 Dload  Upload   Total   Spent    Left  Speed\n",
      "100  461k  100  461k    0     0   539k      0 --:--:-- --:--:-- --:--:--  539k\n"
     ]
    }
   ],
   "source": [
    "curl https://raw.githubusercontent.com/nexussays/playerglobal/master/27.0/playerglobal.swc -o $PLAYERGLOBAL_HOME/27.0/playerglobal.swc"
   ]
  },
  {
   "cell_type": "markdown",
   "id": "608b6505",
   "metadata": {},
   "source": [
    "* https://cwiki.apache.org/confluence/display/FLEX/Installation+help"
   ]
  },
  {
   "cell_type": "code",
   "execution_count": null,
   "id": "a65cd0d9",
   "metadata": {},
   "outputs": [
    {
     "name": "stdout",
     "output_type": "stream",
     "text": [
      "Buildfile: /home/jovyan/apache-flex-sdk-4.16.1-bin/installer.xml\n",
      "      [get] Getting: http://flex.apache.org/installer/properties/sdk/en_US.properties\n",
      "      [get] To: /home/jovyan/apache-flex-sdk-4.16.1-bin/en_US.properties\n",
      "\n",
      "get-data:\n",
      "      [get] Getting: http://flex.apache.org/installer/sdk-installer-config-4.0.xml?ts=202111301055\n",
      "      [get] To: /home/jovyan/apache-flex-sdk-4.16.1-bin/sdk-installer-config-4.0.xml\n",
      "\n",
      "get-air-md5-data:\n",
      "\n",
      "get-flash-md5-data:\n",
      "\n",
      "get-md5-data:\n",
      "\n",
      "check-binary:\n",
      "\n",
      "ask-air:\n",
      "    [input] Apache Flex SDK uses the Adobe AIR SDK to build Adobe AIR applications.\n",
      "    [input] The Adobe AIR SDK is subject to and governed by the\n",
      "    [input] Adobe AIR SDK License Agreement specified here:\n",
      "    [input] http://www.adobe.com/products/air/sdk-eula.html.\n",
      "    [input] This license is not compatible with the Apache v2 license.\n",
      "    [input] Do you want to download and install the Adobe AIR SDK? (y, [n])\n"
     ]
    }
   ],
   "source": [
    "ant -f $HOME/apache-flex-sdk-4.16.1-bin/installer.xml -Dair.sdk.version=2.6"
   ]
  },
  {
   "cell_type": "markdown",
   "id": "3231b4b2",
   "metadata": {},
   "source": [
    "* https://www.noobslab.com/2015/05/adobeair-is-now-available-for-ubuntu.html"
   ]
  },
  {
   "cell_type": "code",
   "execution_count": null,
   "id": "0f83a645",
   "metadata": {},
   "outputs": [],
   "source": [
    "wget -O adobe-air.sh http://drive.noobslab.com/data/apps/AdobeAir/adobe-air.sh\n",
    "chmod +x adobe-air.sh; sudo ./adobe-air.sh"
   ]
  },
  {
   "cell_type": "markdown",
   "id": "3e635867",
   "metadata": {},
   "source": [
    "* https://airsdk.harman.com/download"
   ]
  },
  {
   "cell_type": "code",
   "execution_count": null,
   "id": "159c5798",
   "metadata": {},
   "outputs": [],
   "source": []
  }
 ],
 "metadata": {
  "kernelspec": {
   "display_name": "Bash",
   "language": "bash",
   "name": "bash"
  }
 },
 "nbformat": 4,
 "nbformat_minor": 5
}
