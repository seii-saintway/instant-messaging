{
 "cells": [
  {
   "cell_type": "markdown",
   "metadata": {},
   "source": [
    "## Create the Project An-Official-Demo"
   ]
  },
  {
   "cell_type": "code",
   "execution_count": null,
   "metadata": {},
   "outputs": [
    {
     "name": "stdout",
     "output_type": "stream",
     "text": [
      "[\u001b[1;34mINFO\u001b[m] Scanning for projects...\n",
      "[\u001b[1;34mINFO\u001b[m] \n",
      "[\u001b[1;34mINFO\u001b[m] \u001b[1m------------------< \u001b[0;36morg.apache.maven:standalone-pom\u001b[0;1m >-------------------\u001b[m\n",
      "[\u001b[1;34mINFO\u001b[m] \u001b[1mBuilding Maven Stub Project (No POM) 1\u001b[m\n",
      "[\u001b[1;34mINFO\u001b[m] \u001b[1m--------------------------------[ pom ]---------------------------------\u001b[m\n",
      "[\u001b[1;34mINFO\u001b[m] \n",
      "[\u001b[1;34mINFO\u001b[m] \u001b[1m>>> \u001b[0;32mmaven-archetype-plugin:3.1.2:generate\u001b[m \u001b[1m(default-cli)\u001b[0;1m > \u001b[0;1mgenerate-sources\u001b[m @ \u001b[36mstandalone-pom\u001b[0;1m >>>\u001b[m\n",
      "[\u001b[1;34mINFO\u001b[m] \n",
      "[\u001b[1;34mINFO\u001b[m] \u001b[1m<<< \u001b[0;32mmaven-archetype-plugin:3.1.2:generate\u001b[m \u001b[1m(default-cli)\u001b[0;1m < \u001b[0;1mgenerate-sources\u001b[m @ \u001b[36mstandalone-pom\u001b[0;1m <<<\u001b[m\n",
      "[\u001b[1;34mINFO\u001b[m] \n",
      "[\u001b[1;34mINFO\u001b[m] \n",
      "[\u001b[1;34mINFO\u001b[m] \u001b[1m--- \u001b[0;32mmaven-archetype-plugin:3.1.2:generate\u001b[m \u001b[1m(default-cli)\u001b[m @ \u001b[36mstandalone-pom\u001b[0;1m ---\u001b[m\n",
      "[\u001b[1;34mINFO\u001b[m] Generating project in Batch mode\n",
      "[\u001b[1;34mINFO\u001b[m] ----------------------------------------------------------------------------\n",
      "[\u001b[1;34mINFO\u001b[m] Using following parameters for creating project from Archetype: maven-archetype-quickstart:1.4\n",
      "[\u001b[1;34mINFO\u001b[m] ----------------------------------------------------------------------------\n",
      "[\u001b[1;34mINFO\u001b[m] Parameter: groupId, Value: io.netty.example.discard\n",
      "[\u001b[1;34mINFO\u001b[m] Parameter: artifactId, Value: an-official-demo\n",
      "[\u001b[1;34mINFO\u001b[m] Parameter: version, Value: 1.0-SNAPSHOT\n",
      "[\u001b[1;34mINFO\u001b[m] Parameter: package, Value: io.netty.example.discard\n",
      "[\u001b[1;34mINFO\u001b[m] Parameter: packageInPathFormat, Value: io/netty/example/discard\n",
      "[\u001b[1;34mINFO\u001b[m] Parameter: version, Value: 1.0-SNAPSHOT\n",
      "[\u001b[1;34mINFO\u001b[m] Parameter: package, Value: io.netty.example.discard\n",
      "[\u001b[1;34mINFO\u001b[m] Parameter: groupId, Value: io.netty.example.discard\n",
      "[\u001b[1;34mINFO\u001b[m] Parameter: artifactId, Value: an-official-demo\n",
      "[\u001b[1;34mINFO\u001b[m] Project created from Archetype in dir: /home/jupyter-sheng_wei/!-instant-messaging/an-official-demo\n",
      "[\u001b[1;34mINFO\u001b[m] \u001b[1m------------------------------------------------------------------------\u001b[m\n",
      "[\u001b[1;34mINFO\u001b[m] \u001b[1;32mBUILD SUCCESS\u001b[m\n",
      "[\u001b[1;34mINFO\u001b[m] \u001b[1m------------------------------------------------------------------------\u001b[m\n",
      "[\u001b[1;34mINFO\u001b[m] Total time:  3.073 s\n",
      "[\u001b[1;34mINFO\u001b[m] Finished at: 2021-11-28T15:43:59+09:00\n",
      "[\u001b[1;34mINFO\u001b[m] \u001b[1m------------------------------------------------------------------------\u001b[m\n",
      "\u001b[0m\u001b[0m"
     ]
    }
   ],
   "source": [
    "mvn archetype:generate -DgroupId=io.netty.example.discard -DartifactId=an-official-demo \\\n",
    "-DarchetypeArtifactId=maven-archetype-quickstart -DarchetypeVersion=1.4 -DinteractiveMode=false"
   ]
  }
 ],
 "metadata": {
  "kernelspec": {
   "display_name": "Bash",
   "language": "bash",
   "name": "bash"
  }
 },
 "nbformat": 4,
 "nbformat_minor": 4
}
