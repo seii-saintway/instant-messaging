{
 "cells": [
  {
   "cell_type": "markdown",
   "metadata": {},
   "source": [
    "* https://github.com/netty/netty\n",
    "* https://github.com/waylau/netty-4-user-guide-demos\n",
    "  * [Netty 实现 Echo 服务器、客户端](https://github.com/waylau/netty-4-user-guide-demos/blob/master/netty4-demos/src/main/java/com/waylau/netty/demo/echo)\n",
    "  * [基于 WebSocket 的聊天室](https://github.com/waylau/netty-4-user-guide-demos/tree/master/netty4-demos/src/main/java/com/waylau/netty/demo/websocketchat)\n",
    "* https://github.com/sanshengshui/netty-learning-example\n",
    "  * [Netty 实现高性能 IoT 服务器 (Groza) 之精尽代码篇中](https://www.cnblogs.com/sanshengshui/p/9859030.html)"
   ]
  }
 ],
 "metadata": {
  "kernelspec": {
   "display_name": "Python 3 (ipykernel)",
   "language": "python",
   "name": "python3"
  },
  "language_info": {
   "codemirror_mode": {
    "name": "ipython",
    "version": 3
   },
   "file_extension": ".py",
   "mimetype": "text/x-python",
   "name": "python",
   "nbconvert_exporter": "python",
   "pygments_lexer": "ipython3",
   "version": "3.9.7"
  }
 },
 "nbformat": 4,
 "nbformat_minor": 4
}
