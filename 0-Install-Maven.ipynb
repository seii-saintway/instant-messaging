{
 "cells": [
  {
   "cell_type": "markdown",
   "metadata": {},
   "source": [
    "## Install Maven"
   ]
  },
  {
   "cell_type": "code",
   "execution_count": null,
   "metadata": {},
   "outputs": [
    {
     "name": "stdout",
     "output_type": "stream",
     "text": [
      "openjdk version \"1.8.0_292\"\n",
      "OpenJDK Runtime Environment (build 1.8.0_292-8u292-b10-0ubuntu1~18.04-b10)\n",
      "OpenJDK 64-Bit Server VM (build 25.292-b10, mixed mode)\n"
     ]
    }
   ],
   "source": [
    "java -version"
   ]
  },
  {
   "cell_type": "code",
   "execution_count": null,
   "metadata": {},
   "outputs": [],
   "source": [
    "cd $HOME"
   ]
  },
  {
   "cell_type": "code",
   "execution_count": null,
   "metadata": {},
   "outputs": [
    {
     "name": "stdout",
     "output_type": "stream",
     "text": [
      "  % Total    % Received % Xferd  Average Speed   Time    Time     Time  Current\n",
      "                                 Dload  Upload   Total   Spent    Left  Speed\n",
      "100 8834k  100 8834k    0     0  85.4M      0 --:--:-- --:--:-- --:--:-- 85.4M\n"
     ]
    }
   ],
   "source": [
    "curl -O https://dlcdn.apache.org/maven/maven-3/3.8.4/binaries/apache-maven-3.8.4-bin.tar.gz"
   ]
  },
  {
   "cell_type": "code",
   "execution_count": null,
   "metadata": {},
   "outputs": [
    {
     "name": "stdout",
     "output_type": "stream",
     "text": [
      "apache-maven-3.8.4/README.txt\n",
      "apache-maven-3.8.4/LICENSE\n",
      "apache-maven-3.8.4/NOTICE\n",
      "apache-maven-3.8.4/lib/\n",
      "apache-maven-3.8.4/lib/commons-cli.license\n",
      "apache-maven-3.8.4/lib/commons-io.license\n",
      "apache-maven-3.8.4/lib/commons-lang3.license\n",
      "apache-maven-3.8.4/lib/guava.license\n",
      "apache-maven-3.8.4/lib/guice.license\n",
      "apache-maven-3.8.4/lib/jansi.license\n",
      "apache-maven-3.8.4/lib/javax.annotation-api.license\n",
      "apache-maven-3.8.4/lib/javax.inject.license\n",
      "apache-maven-3.8.4/lib/jcl-over-slf4j.license\n",
      "apache-maven-3.8.4/lib/jsoup.license\n",
      "apache-maven-3.8.4/lib/org.eclipse.sisu.inject.license\n",
      "apache-maven-3.8.4/lib/org.eclipse.sisu.plexus.license\n",
      "apache-maven-3.8.4/lib/plexus-cipher.license\n",
      "apache-maven-3.8.4/lib/plexus-component-annotations.license\n",
      "apache-maven-3.8.4/lib/plexus-interpolation.license\n",
      "apache-maven-3.8.4/lib/plexus-sec-dispatcher.license\n",
      "apache-maven-3.8.4/lib/plexus-utils.license\n",
      "apache-maven-3.8.4/lib/slf4j-api.license\n",
      "apache-maven-3.8.4/boot/\n",
      "apache-maven-3.8.4/boot/plexus-classworlds.license\n",
      "apache-maven-3.8.4/lib/jansi-native/\n",
      "apache-maven-3.8.4/lib/jansi-native/Windows/\n",
      "apache-maven-3.8.4/lib/jansi-native/Windows/x86/\n",
      "apache-maven-3.8.4/lib/jansi-native/Windows/x86_64/\n",
      "apache-maven-3.8.4/lib/jansi-native/Windows/x86/jansi.dll\n",
      "apache-maven-3.8.4/lib/jansi-native/Windows/x86_64/jansi.dll\n",
      "apache-maven-3.8.4/bin/m2.conf\n",
      "apache-maven-3.8.4/bin/mvn.cmd\n",
      "apache-maven-3.8.4/bin/mvnDebug.cmd\n",
      "apache-maven-3.8.4/bin/mvn\n",
      "apache-maven-3.8.4/bin/mvnDebug\n",
      "apache-maven-3.8.4/bin/mvnyjp\n",
      "apache-maven-3.8.4/conf/\n",
      "apache-maven-3.8.4/conf/logging/\n",
      "apache-maven-3.8.4/conf/logging/simplelogger.properties\n",
      "apache-maven-3.8.4/conf/settings.xml\n",
      "apache-maven-3.8.4/conf/toolchains.xml\n",
      "apache-maven-3.8.4/lib/ext/\n",
      "apache-maven-3.8.4/lib/jansi-native/\n",
      "apache-maven-3.8.4/lib/ext/README.txt\n",
      "apache-maven-3.8.4/lib/jansi-native/README.txt\n",
      "apache-maven-3.8.4/boot/plexus-classworlds-2.6.0.jar\n",
      "apache-maven-3.8.4/lib/maven-embedder-3.8.4.jar\n",
      "apache-maven-3.8.4/lib/maven-settings-3.8.4.jar\n",
      "apache-maven-3.8.4/lib/maven-settings-builder-3.8.4.jar\n",
      "apache-maven-3.8.4/lib/maven-plugin-api-3.8.4.jar\n",
      "apache-maven-3.8.4/lib/maven-model-3.8.4.jar\n",
      "apache-maven-3.8.4/lib/maven-model-builder-3.8.4.jar\n",
      "apache-maven-3.8.4/lib/maven-builder-support-3.8.4.jar\n",
      "apache-maven-3.8.4/lib/maven-resolver-api-1.6.3.jar\n",
      "apache-maven-3.8.4/lib/maven-resolver-util-1.6.3.jar\n",
      "apache-maven-3.8.4/lib/maven-shared-utils-3.3.4.jar\n",
      "apache-maven-3.8.4/lib/commons-io-2.6.jar\n",
      "apache-maven-3.8.4/lib/guice-4.2.2-no_aop.jar\n",
      "apache-maven-3.8.4/lib/guava-25.1-android.jar\n",
      "apache-maven-3.8.4/lib/javax.inject-1.jar\n",
      "apache-maven-3.8.4/lib/javax.annotation-api-1.2.jar\n",
      "apache-maven-3.8.4/lib/plexus-utils-3.3.0.jar\n",
      "apache-maven-3.8.4/lib/plexus-sec-dispatcher-2.0.jar\n",
      "apache-maven-3.8.4/lib/plexus-cipher-2.0.jar\n",
      "apache-maven-3.8.4/lib/slf4j-api-1.7.32.jar\n",
      "apache-maven-3.8.4/lib/commons-lang3-3.8.1.jar\n",
      "apache-maven-3.8.4/lib/maven-core-3.8.4.jar\n",
      "apache-maven-3.8.4/lib/maven-repository-metadata-3.8.4.jar\n",
      "apache-maven-3.8.4/lib/maven-artifact-3.8.4.jar\n",
      "apache-maven-3.8.4/lib/maven-resolver-provider-3.8.4.jar\n",
      "apache-maven-3.8.4/lib/maven-resolver-impl-1.6.3.jar\n",
      "apache-maven-3.8.4/lib/maven-resolver-spi-1.6.3.jar\n",
      "apache-maven-3.8.4/lib/org.eclipse.sisu.inject-0.3.5.jar\n",
      "apache-maven-3.8.4/lib/plexus-interpolation-1.26.jar\n",
      "apache-maven-3.8.4/lib/plexus-component-annotations-2.1.0.jar\n",
      "apache-maven-3.8.4/lib/maven-compat-3.8.4.jar\n",
      "apache-maven-3.8.4/lib/wagon-provider-api-3.4.3.jar\n",
      "apache-maven-3.8.4/lib/org.eclipse.sisu.plexus-0.3.5.jar\n",
      "apache-maven-3.8.4/lib/commons-cli-1.4.jar\n",
      "apache-maven-3.8.4/lib/wagon-http-3.4.3-shaded.jar\n",
      "apache-maven-3.8.4/lib/jcl-over-slf4j-1.7.32.jar\n",
      "apache-maven-3.8.4/lib/wagon-file-3.4.3.jar\n",
      "apache-maven-3.8.4/lib/maven-resolver-connector-basic-1.6.3.jar\n",
      "apache-maven-3.8.4/lib/maven-resolver-transport-wagon-1.6.3.jar\n",
      "apache-maven-3.8.4/lib/maven-slf4j-provider-3.8.4.jar\n",
      "apache-maven-3.8.4/lib/jansi-2.4.0.jar\n"
     ]
    }
   ],
   "source": [
    "tar xvzf apache-maven-3.8.4-bin.tar.gz"
   ]
  },
  {
   "cell_type": "code",
   "execution_count": null,
   "metadata": {},
   "outputs": [],
   "source": [
    "cat << EOF >> $HOME/.bashrc\n",
    "export PATH=\"\\$HOME/apache-maven-3.8.4/bin:\\$PATH\"\n",
    "EOF"
   ]
  },
  {
   "cell_type": "code",
   "execution_count": null,
   "metadata": {},
   "outputs": [
    {
     "name": "stdout",
     "output_type": "stream",
     "text": [
      "\u001b[1mApache Maven 3.8.4 (9b656c72d54e5bacbed989b64718c159fe39b537)\u001b[m\n",
      "Maven home: /home/jupyter-sheng_wei/apache-maven-3.8.4\n",
      "Java version: 1.8.0_292, vendor: Private Build, runtime: /usr/lib/jvm/java-8-openjdk-amd64/jre\n",
      "Default locale: en, platform encoding: UTF-8\n",
      "OS name: \"linux\", version: \"5.4.0-1059-aws\", arch: \"amd64\", family: \"unix\"\n",
      "\u001b[0m\u001b[0m"
     ]
    }
   ],
   "source": [
    "mvn -v"
   ]
  },
  {
   "cell_type": "markdown",
   "metadata": {},
   "source": [
    "## [Configuring a Proxy](https://maven.apache.org/guides/mini/guide-proxies.html)"
   ]
  },
  {
   "cell_type": "code",
   "execution_count": null,
   "metadata": {},
   "outputs": [],
   "source": [
    "cat << EOF > $HOME/.m2/settings.xml\n",
    "<settings>\n",
    "  <proxies>\n",
    "   <proxy>\n",
    "      <id>$proxy_id</id>\n",
    "      <active>true</active>\n",
    "      <protocol>http</protocol>\n",
    "      <host>$http_host</host>\n",
    "      <port>$http_port</port>\n",
    "      <username>$username</username>\n",
    "      <password>$password</password>\n",
    "      <nonProxyHosts>localhost|127.0.0.1</nonProxyHosts>\n",
    "    </proxy>\n",
    "  </proxies>\n",
    "</settings>\n",
    "EOF"
   ]
  }
 ],
 "metadata": {
  "kernelspec": {
   "display_name": "Bash",
   "language": "bash",
   "name": "bash"
  }
 },
 "nbformat": 4,
 "nbformat_minor": 4
}
