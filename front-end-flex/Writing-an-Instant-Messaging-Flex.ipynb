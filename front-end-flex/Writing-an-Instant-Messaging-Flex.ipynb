{
 "cells": [
  {
   "cell_type": "markdown",
   "metadata": {},
   "source": [
    "## Writing an Instant Messaging Client Side\n",
    "* [Getting Started with Apache Flex](http://flex.apache.org/doc-getstarted.html)\n",
    "* [ADOBE® FLEX® 4.6 PDF](https://help.adobe.com/archive/en_US/flex/using/flex_4.6_help.pdf)"
   ]
  },
  {
   "cell_type": "code",
   "execution_count": null,
   "metadata": {},
   "outputs": [],
   "source": [
    "mkdir -p src"
   ]
  },
  {
   "cell_type": "code",
   "execution_count": null,
   "metadata": {},
   "outputs": [],
   "source": [
    "cat << EOF > src/front_end.mxml\n",
    "<?xml version=\"1.0\"?>\n",
    "<s:Application xmlns:fx=\"http://ns.adobe.com/mxml/2009\" xmlns:s=\"library://ns.adobe.com/flex/spark\">\n",
    "    <fx:Script><![CDATA[\n",
    "        import mx.controls.Alert;\n",
    "\n",
    "        var socket:Socket = null;\n",
    "\n",
    "        // 初始化连接\n",
    "        public function conn():void\n",
    "        {\n",
    "            socket = new Socket();\n",
    "            // 增加事件监听处理\n",
    "            socket.addEventListener(Event.CLOSE,closeHandler);\n",
    "            socket.addEventListener(Event.CONNECT,connectHandler);\n",
    "            socket.addEventListener(ProgressEvent.SOCKET_DATA, socketDataHandler);\n",
    "            // 建立连接\n",
    "            socket.connect('127.0.0.1',8088);\n",
    "        }\n",
    "\n",
    "        // 监听关闭事件\n",
    "        private function closeHandler(event:Event):void\n",
    "        {\n",
    "            trace(\"closeHandler: \" + event);\n",
    "            Alert.show('closed!');\n",
    "        }\n",
    "\n",
    "        // 监听连接成功事件\n",
    "        private function connectHandler(event:Event):void\n",
    "        {\n",
    "            trace(\"connectHandler: \" + event);\n",
    "            // 注册用户\n",
    "            setName();\n",
    "            Alert.show('connected!');\n",
    "        }\n",
    "\n",
    "        // 处理接收消息\n",
    "        private function socketDataHandler(event:ProgressEvent):void\n",
    "        {\n",
    "            var str:String = socket.readUTFBytes(socket.bytesAvailable);\n",
    "            trace(\"receive data : \" + str);\n",
    "            // 沙箱处理\n",
    "            if(str.indexOf(\"<?xml version=\\\"1.0\\\"?>\") == 0){\n",
    "                //Alert.show(str);\n",
    "            } else if (str.indexOf(\"ROSTER:\") == 0){\n",
    "                this.roster.text = str; // 处理通讯录\n",
    "            } else {\n",
    "                this.content.appendText(str +\"\\n\"); // 普通消息\n",
    "            }\n",
    "        }\n",
    "\n",
    "        // 点击按钮发送消息，内容为输入框中的文本\n",
    "        public function send():void\n",
    "        {\n",
    "            var message:String = this.messageField.text;\n",
    "            trace(\"client send : \" + message);\n",
    "            socket.writeUTFBytes(\"MSG:\" + this.receive.text + \"#\" + this.setname.text + \":\" + message);\n",
    "            socket.flush();\n",
    "            // 设置对话框展示效果\n",
    "            this.content.appendText(this.setname.text + \":\" + this.messageField.text +\"\\n\");\n",
    "            this.messageField.text = '';\n",
    "\n",
    "        }\n",
    "\n",
    "        // 发送字符串函数，用户注册时使用\n",
    "        private function sendMsg(str:String):void\n",
    "        {\n",
    "            trace(\"client send : \" + str);\n",
    "            socket.writeUTFBytes(str);\n",
    "            socket.flush();\n",
    "        }\n",
    "\n",
    "        // 点击关闭\n",
    "        public function close():void\n",
    "        {\n",
    "            trace(\"close the connect\");\n",
    "            var nickname:String = this.setname.text;\n",
    "            // 根据注册的用户注销用户\n",
    "            sendMsg(\"QUIT:\" + nickname);\n",
    "            // 关闭连接\n",
    "            socket.close();\n",
    "        }\n",
    "\n",
    "        // 设置用户名，用于注册\n",
    "        public function setName():void{\n",
    "            var nickname:String = this.setname.text;\n",
    "            sendMsg(\"AUTH:\" + nickname);\n",
    "        }\n",
    "\n",
    "        ]]></fx:Script>\n",
    "\n",
    "    <s:Label text=\"用户名:\" x=\"10\" y=\"10\" />\n",
    "    <s:TextInput x=\"50\" y=\"0\" width=\"100\" height=\"31\" id=\"setname\"/>\n",
    "    <s:Button click=\"conn()\" label=\"连接\" x=\"160\" y=\"0\" width=\"60\" height=\"31\"/>\n",
    "\n",
    "    <s:Label text=\"接收者:\" x=\"10\" y=\"50\"/>\n",
    "    <s:TextInput x=\"50\" y=\"40\" width=\"100\" height=\"31\" id=\"receive\"/>\n",
    "    <s:TextInput x=\"160\" y=\"40\" width=\"200\" height=\"31\" id=\"messageField\"/>\n",
    "    <s:Button click=\"send()\" label=\"发送\" x=\"370\" y=\"40\" width=\"60\" height=\"31\"/>\n",
    "    <s:Button click=\"close()\" label=\"关闭\" x=\"440\" y=\"40\" width=\"60\" height=\"31\"/>\n",
    "\n",
    "    <s:Label text=\"消息:\" x=\"10\" y=\"100\"/>\n",
    "    <s:Label text=\"通讯录:\" x=\"320\" y=\"100\"/>\n",
    "    <s:TextArea x=\"10\" y=\"130\" width=\"300\" height=\"100\" id=\"content\"/>\n",
    "    <s:TextArea x=\"320\" y=\"130\" width=\"200\" height=\"100\" id=\"roster\"/>\n",
    "\n",
    "</s:Application>\n",
    "EOF"
   ]
  },
  {
   "cell_type": "markdown",
   "metadata": {},
   "source": [
    "### Build"
   ]
  },
  {
   "cell_type": "code",
   "execution_count": null,
   "metadata": {},
   "outputs": [],
   "source": [
    "mxmlc -help list"
   ]
  },
  {
   "cell_type": "code",
   "execution_count": null,
   "metadata": {},
   "outputs": [
    {
     "name": "stdout",
     "output_type": "stream",
     "text": [
      "Apache Flex Compiler (mxmlc)\n",
      "Version 4.16.1 build 20171115\n",
      "Copyright 2017 The Apache Software Foundation.\n",
      "\n",
      "\n",
      "-benchmark\n",
      "    output performance benchmark\n",
      "-include-resource-bundles [bundle] [...]\n",
      "    a list of resource bundles to include in the output SWC (repeatable)\n",
      "-output <filename>\n",
      "    alias -o\n",
      "    the filename of the SWF movie to create\n",
      "\n"
     ]
    }
   ],
   "source": [
    "mxmlc -help output"
   ]
  },
  {
   "cell_type": "code",
   "execution_count": null,
   "metadata": {},
   "outputs": [
    {
     "name": "stdout",
     "output_type": "stream",
     "text": [
      "Loading configuration file /home/jovyan/apache-flex-sdk-4.16.1-bin/frameworks/flex-config.xml\n",
      "/home/jovyan/jhub/!-instant-messaging/front-end-flex/src/front_end.mxml(6): Warning: var 'socket' will be scoped to the default namespace: front_end: internal.  It will not be visible outside of this package.\n",
      "\n",
      "        var socket:Socket = null;\n",
      "\n",
      "/home/jovyan/jhub/!-instant-messaging/front-end-flex/front_end.swf (621587 bytes)\n"
     ]
    }
   ],
   "source": [
    "mxmlc src/front_end.mxml -output ./front_end.swf"
   ]
  },
  {
   "cell_type": "markdown",
   "metadata": {},
   "source": [
    "### Run"
   ]
  },
  {
   "cell_type": "code",
   "execution_count": null,
   "metadata": {},
   "outputs": [],
   "source": []
  },
  {
   "cell_type": "markdown",
   "metadata": {},
   "source": [
    "### Test"
   ]
  },
  {
   "cell_type": "code",
   "execution_count": null,
   "metadata": {},
   "outputs": [],
   "source": []
  }
 ],
 "metadata": {
  "kernelspec": {
   "display_name": "Bash",
   "language": "bash",
   "name": "bash"
  }
 },
 "nbformat": 4,
 "nbformat_minor": 4
}
